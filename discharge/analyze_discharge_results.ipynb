{
 "cells": [
  {
   "cell_type": "code",
   "execution_count": null,
   "id": "induced-lingerie",
   "metadata": {},
   "outputs": [],
   "source": [
    "import gc\n",
    "import os\n",
    "import urllib.request\n",
    "from pathlib import Path\n",
    "\n",
    "import geopandas as gpd\n",
    "import matplotlib.pyplot as plt\n",
    "import numpy as np\n",
    "import pandas as pd\n",
    "import seaborn as sns\n",
    "import xarray as xr\n",
    "from scipy import signal"
   ]
  },
  {
   "cell_type": "code",
   "execution_count": null,
   "id": "sharing-privilege",
   "metadata": {},
   "outputs": [],
   "source": [
    "# plots\n",
    "plt.style.use(\"seaborn-talk\")"
   ]
  },
  {
   "cell_type": "code",
   "execution_count": null,
   "id": "endangered-buddy",
   "metadata": {},
   "outputs": [],
   "source": [
    "project = Path.cwd()\n",
    "output = project / \"output\"\n",
    "input = project / \"input\"\n",
    "output_data = output / \"data\"\n",
    "figures = project / \"figures\""
   ]
  },
  {
   "cell_type": "code",
   "execution_count": null,
   "id": "respiratory-boards",
   "metadata": {},
   "outputs": [],
   "source": [
    "# get MS River input discharge\n",
    "conversion = 1 / (1000 ** 3)  # m^3 -> km^3\n",
    "t0 = pd.to_datetime(\"2018-01-01 01:00:00\")\n",
    "tf = pd.to_datetime(\"2018-11-23 00:00:00\")\n",
    "belle_chasse_input = pd.read_csv(\n",
    "    output / \"delft3d_input/mississippi_at_belle_chase_2017-12-01_godin.csv\",\n",
    "    sep=\"\\t\",\n",
    "    index_col=[0],\n",
    "    parse_dates=True\n",
    ").loc[t0:tf]\n",
    "\n",
    "# integrate piece-wise discharge observations assuming observation held constant for previous hour. Convert to km/year\n",
    "belle_chasse_total = (belle_chasse_input * 3600).sum().values * conversion"
   ]
  },
  {
   "cell_type": "code",
   "execution_count": null,
   "id": "f9385623-759c-4287-b994-42fc9ad107fa",
   "metadata": {},
   "outputs": [],
   "source": [
    "model = \"p03\"\n",
    "model_output = Path(\n",
    "    f\"/mnt/e/MS_River_plume/Delft3D/models/prod_2018/{model}_10sig_2018prod/\"\n",
    ")\n",
    "merged_his_fn = model_output / f\"{model}_merged_his.nc\"\n",
    "\n",
    "variables = [\n",
    "    \"cross_section_discharge\",\n",
    "    \"cross_section_geom\",\n",
    "    \"cross_section_cumulative_discharge\",\n",
    "    \"cross_section_velocity\",\n",
    "]\n",
    "\n",
    "his = xr.open_dataset(merged_his_fn)[variables]\n",
    "his = his.assign_coords(cross_section_name=his.cross_section_name.astype(\"unicode\"))\n",
    "his = his.swap_dims({\"cross_section\": \"cross_section_name\"})"
   ]
  },
  {
   "cell_type": "code",
   "execution_count": null,
   "id": "instructional-reaction",
   "metadata": {},
   "outputs": [],
   "source": [
    "cross_sections = [\"ms_buras\", \"allison_39\", \"allison_15-3\", \"allison_8-4\", \"allison_4-2\"]\n",
    "outlets = [\n",
    "    \"ostrica\",\n",
    "    \"fort_st_philip\",\n",
    "    \"baptiste_collette_1\",\n",
    "    \"grand_pass\",\n",
    "    \"west_bay_diversion\",\n",
    "    \"cubits_gap\",\n",
    "    \"south_west_pass\",\n",
    "    \"south_pass\",\n",
    "    \"pass_a_loutre\",\n",
    "]"
   ]
  },
  {
   "cell_type": "code",
   "execution_count": null,
   "id": "private-entry",
   "metadata": {},
   "outputs": [],
   "source": [
    "fig, ax = plt.subplots()\n",
    "var = \"cross_section_discharge\"\n",
    "time = his[\"time\"].values\n",
    "for cross_section in cross_sections:\n",
    "    data = his.sel(cross_section_name=cross_section)[var].copy().values\n",
    "\n",
    "    ax.plot(time, data, label=f\"{cross_section}\")\n",
    "    pass\n",
    "\n",
    "data = his.sel(cross_section_name=\"south_west_pass\")[var].copy().values\n",
    "for outlet in outlets[-2:]:\n",
    "    _data = his.sel(cross_section_name=outlet)[var].copy().values\n",
    "    data += _data\n",
    "\n",
    "ax.plot(time, data, label=f\"Head of Passes\")\n",
    "\n",
    "ax.set_xlim([pd.to_datetime(\"2018-01-02\"), his.time[-1]])\n",
    "ax.grid()\n",
    "ax.set_ylabel(\"discharge [$m^3/s$]\")\n",
    "ax.legend(ncol=2)"
   ]
  },
  {
   "cell_type": "code",
   "execution_count": null,
   "id": "fluid-apparatus",
   "metadata": {},
   "outputs": [],
   "source": [
    "fig, ax = plt.subplots()\n",
    "downstream = \"allison_15-3\"\n",
    "sub_outlets = outlets[1:4]\n",
    "\n",
    "upstream = his.sel(cross_section_name=\"allison_39\")[var].copy().values\n",
    "downstream = his.sel(cross_section_name=\"allison_15-3\")[var].copy().values\n",
    "fort_st_philip = his.sel(cross_section_name=\"fort_st_philip\")[var].copy().values\n",
    "baptiste_collette_1 = his.sel(cross_section_name=\"baptiste_collette_1\")[var].copy().values\n",
    "grand_pass = his.sel(cross_section_name=\"grand_pass\")[var].copy().values\n",
    "\n",
    "ax.plot(time, upstream, label=f\"allison_39 (upstream)\")\n",
    "ax.plot(time, downstream, label=f\"allison_15-3 (downstream)\")\n",
    "ax.plot(time, fort_st_philip, label=f\"fort_st_philip (1st outlet)\")\n",
    "ax.plot(time, baptiste_collette_1, label=f\"Baptiste Collette (2nd outlet)\")\n",
    "ax.plot(time, grand_pass, label=f\"Grand Pass (3rd outlet)\")\n",
    "ax.plot(time, fort_st_philip + baptiste_collette_1 + grand_pass + downstream, label=f\"outlet + downstream\")\n",
    "\n",
    "ax.legend(ncol=3)"
   ]
  },
  {
   "cell_type": "code",
   "execution_count": null,
   "id": "electric-latitude",
   "metadata": {},
   "outputs": [],
   "source": [
    "# annual water discarge [Allison et al. 2012] km/y\n",
    "allison_belle_chasse = 527\n",
    "allison_Q_data = {\n",
    "    # \"bohemia\": 1,\n",
    "    \"ostrica\": 8,\n",
    "    \"fort_st_philip\": 31,\n",
    "    \"baptiste_collette_1\": 49,\n",
    "    \"grand_pass\": 52,\n",
    "    \"west_bay_diversion\": 33,\n",
    "    # \"small_cuts\": 10,\n",
    "    \"cubits_gap\": 52,\n",
    "    \"south_west_pass\": 163,\n",
    "    \"south_pass\": 47,\n",
    "    \"pass_a_loutre\": 43,\n",
    "}\n",
    "\n",
    "allison_Q = pd.DataFrame.from_dict(\n",
    "    data=allison_Q_data, orient=\"index\", columns=[\"Allison et al. (2012)\"]\n",
    ")\n",
    "loss = allison_belle_chasse - allison_Q.sum()\n",
    "allison_Q.loc[\"unaccounted\"] = loss"
   ]
  },
  {
   "cell_type": "code",
   "execution_count": null,
   "id": "efficient-worker",
   "metadata": {},
   "outputs": [],
   "source": [
    "model_annual_discharge = (\n",
    "    (\n",
    "        (his[\"cross_section_discharge\"] * (10 * 60))\n",
    "        .sum(dim=\"time\")\n",
    "        .sel(cross_section_name=outlets)\n",
    "        * conversion\n",
    "    )\n",
    "    .to_dataframe()\n",
    "    .rename(columns={\"cross_section_discharge\": \"Model\"})\n",
    ")\n",
    "loss = belle_chasse_total - model_annual_discharge.sum()\n",
    "model_annual_discharge.loc[\"unaccounted\"] = loss"
   ]
  },
  {
   "cell_type": "code",
   "execution_count": null,
   "id": "handmade-police",
   "metadata": {},
   "outputs": [],
   "source": [
    "# make dataframe\n",
    "annual_discharge = model_annual_discharge.join(allison_Q)\n",
    "rel_annual_discharge = (model_annual_discharge / belle_chasse_total).join(\n",
    "    allison_Q / allison_belle_chasse\n",
    ")"
   ]
  },
  {
   "cell_type": "code",
   "execution_count": null,
   "id": "different-contributor",
   "metadata": {},
   "outputs": [],
   "source": [
    "fig, ax = plt.subplots(figsize=(12, 7))\n",
    "cross_sections = annual_discharge.index.values\n",
    "(100 * rel_annual_discharge).plot.bar(ax=ax, zorder=10)\n",
    "\n",
    "xaxis_labels = [\n",
    "    \"Ostrica\",\n",
    "    \"Fort St. Philip\",\n",
    "    \"Baptiste Collette\",\n",
    "    \"Grand Pass\",\n",
    "    \"West Bay Diversion\",\n",
    "    \"Cubits Gap\",\n",
    "    \"South West Pass\",\n",
    "    \"South Pass\",\n",
    "    \"Pass a Loutre\",\n",
    "    \"Unaccounted For\",\n",
    "]\n",
    "\n",
    "\n",
    "ax.set_xlabel(\"\")\n",
    "ax.set_ylabel(\"Percent Annual Discharge [%]\")\n",
    "ax.tick_params(axis=\"x\", rotation=45)\n",
    "ax.set_xticklabels(xaxis_labels)\n",
    "ax.grid(zorder=0)\n",
    "ax.set_ylim([0, 35])\n",
    "ax.legend(loc=\"upper left\")\n",
    "ax.set_title(\"Annual discharge relative to Belle Chasse\")\n",
    "fig.savefig(\n",
    "    figures / f\"percent_annual_discharge_belle_chase_{model}\", bbox_inches=\"tight\"\n",
    ")"
   ]
  },
  {
   "cell_type": "code",
   "execution_count": null,
   "id": "e2f7373c-5948-40ae-830f-56b5db6068e7",
   "metadata": {},
   "outputs": [],
   "source": []
  }
 ],
 "metadata": {
  "language_info": {
   "name": "python",
   "pygments_lexer": "ipython3"
  }
 },
 "nbformat": 4,
 "nbformat_minor": 5
}
