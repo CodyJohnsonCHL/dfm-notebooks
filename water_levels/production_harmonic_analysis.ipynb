{
 "cells": [
  {
   "cell_type": "code",
   "execution_count": null,
   "id": "ccd10b96-a89e-4462-b389-1a17962ff020",
   "metadata": {},
   "outputs": [],
   "source": [
    "import numpy as np\n",
    "import netCDF4 as nc\n",
    "import pandas as pd\n",
    "import xarray as xr\n",
    "import matplotlib as mpl\n",
    "import matplotlib.pyplot as plt\n",
    "import urllib.request\n",
    "import json\n",
    "import os\n",
    "import cartopy.crs as ccrs\n",
    "import pytide\n",
    "from dfm_models.project import FMmodel\n",
    "from dfm_models.utils import observations as obs\n",
    "from dfm_models.utils import analysis\n",
    "from dfm_models.utils import visualization\n",
    "from dfm_models.utils import calibration\n",
    "\n",
    "from pathlib import Path"
   ]
  },
  {
   "cell_type": "code",
   "execution_count": null,
   "id": "761327c6-096a-46a9-a141-ec7442ba7492",
   "metadata": {},
   "outputs": [],
   "source": [
    "import holoviews as hv\n",
    "from holoviews import opts\n",
    "hv.extension(\"bokeh\")\n",
    "\n",
    "from bokeh.io import curdoc, output_notebook\n",
    "from bokeh.models import ColumnDataSource\n",
    "from bokeh.plotting import figure, show\n",
    "from bokeh.themes import built_in_themes\n",
    "\n",
    "output_notebook()\n",
    "curdoc().theme = \"light_minimal\""
   ]
  },
  {
   "cell_type": "code",
   "execution_count": null,
   "id": "051f6caf-6aa0-48dc-b5d7-4a951bf9a099",
   "metadata": {},
   "outputs": [],
   "source": [
    "%load_ext autoreload\n",
    "%autoreload 2"
   ]
  },
  {
   "cell_type": "code",
   "execution_count": null,
   "id": "51c18333-33a8-429e-90a3-960bb9e95f4a",
   "metadata": {},
   "outputs": [],
   "source": [
    "# project files\n",
    "d3d = Path(\"/mnt/c/Users/rdchlclj/Projects/MR_D3D_model/Delft3D\")\n",
    "data = Path(\"/mnt/e/MS_River_plume\")\n",
    "project = d3d / \"tidal_constituent_boundary_conditions\"\n",
    "output = project / \"output\"\n",
    "figures = project / \"figures\"\n",
    "\n",
    "# NOAA COOPs\n",
    "const_data = project / \"constituent_data\"\n",
    "noaa_prediction_data = project / \"noaa_COOPs_prediction_data\"\n",
    "tidal_stations_fn = Path(\n",
    "    \"/mnt/e/MS_River_plume/ArcPro/MyProject/output data/tidal_constituents_stations.xlsx\"\n",
    ")\n",
    "\n",
    "tidal_stations_all = pd.read_excel(tidal_stations_fn, index_col=[0])"
   ]
  },
  {
   "cell_type": "code",
   "execution_count": null,
   "id": "56bce45c-48e9-415e-87d2-714e6e7183dd",
   "metadata": {},
   "outputs": [],
   "source": [
    "# load model results\n",
    "study = \"prod_2016\""
   ]
  },
  {
   "cell_type": "markdown",
   "id": "374d1076-6711-434e-8098-99cded09db22",
   "metadata": {},
   "source": [
    "# Observations"
   ]
  },
  {
   "cell_type": "code",
   "execution_count": null,
   "id": "247bfc5f-4a15-4f0c-8a7f-b78933ad13f8",
   "metadata": {},
   "outputs": [],
   "source": [
    "# clean up data\n",
    "# tidal stations to drop\n",
    "drop_stations = (\n",
    "    \"Pensacola\",\n",
    "    \"East Fowl River Bridge\",\n",
    "    \"Mobile State Docks\",\n",
    "    \"Chickasaw Creek\",\n",
    "    \"West Fowl River Bridge\",\n",
    "    \"Bayou La Batre Bridge\",\n",
    "    \"Grand Bay NERR, Mississippi Sound\",\n",
    "    \"Pascagoula NOAA Lab\",\n",
    "    \"Sabine Pass North\",\n",
    "    \"Texas Point, Sabine Pass\",\n",
    "    \"Weeks Bay, Mobile Bay\",\n",
    ")\n",
    "tidal_stations = tidal_stations_all[~tidal_stations_all.name.isin(drop_stations)]\n",
    "\n",
    "no_NAVD = [\n",
    "    \"Eugene_Island_North_of__Gulf_of_Mexico\",\n",
    "    \"I-10_Bonnet_Carre_Floodway\",\n",
    "    \"Port_Fourchon_Belle_Pass\",\n",
    "    \"Grand_Isle\",\n",
    "    \"Pilots_Station_East_S.W._Pass\",\n",
    "    \"Pilottown\",\n",
    "    \"Dog_River_Bridge\",\n",
    "]"
   ]
  },
  {
   "cell_type": "code",
   "execution_count": null,
   "id": "45a5ccd1-c35f-499a-925c-1a1303671978",
   "metadata": {},
   "outputs": [],
   "source": [
    "stations = {\n",
    "    station_name.replace(\" \", \"_\").replace(\",\", \"\"): station_id\n",
    "    for _, (station_id, station_name) in tidal_stations[[\"id\", \"name\"]].iterrows()\n",
    "}\n",
    "begin_date = \"20160101\"\n",
    "end_date = \"20161231\"\n",
    "\n",
    "Obs = obs.Observations()\n",
    "Obs.load_COOPs_stations(stations)\n",
    "Obs.gen_COOPs_harcons()\n",
    "Obs.gen_COOPS_observed_water_levels(begin_date, end_date, \"NAVD\")\n",
    "Obs.gen_COOPS_observed_water_levels(begin_date, end_date, \"LMSL\")\n",
    "\n",
    "#Obs.gen_COOPS_predicted_water_levels(begin_date, end_date)\n",
    "#Obs.gen_COOPS_predicted_water_levels(begin_date, end_date, \"LMSL\")"
   ]
  },
  {
   "cell_type": "code",
   "execution_count": null,
   "id": "1e306c99-a5a2-4125-8ec1-db7a3a51f09b",
   "metadata": {},
   "outputs": [],
   "source": [
    "case = \"p02\"\n",
    "case_name = f\"{case}_10sig_2016prod\"\n",
    "project_dir = data / f\"Delft3d/models/{study}/{case_name}\"\n",
    "project_output = project_dir / \"output\"\n",
    "his_fn = project_dir / f\"{case}_merged_his.nc\"\n",
    "\n",
    "his_output = FMmodel.hisOutput(his_fn)\n",
    "his_output.water_level_comp_data(list(stations.keys()))\n",
    "results = FMmodel.Results(his_output)\n",
    "prod = FMmodel.Model(case, project_dir, results=results)\n",
    "prod.results.his_output.harmonic_analysis()\n",
    "\n",
    "prod_amp_error, prod_phase_error = analysis.compute_harcon_error(Obs, prod.results)"
   ]
  },
  {
   "cell_type": "markdown",
   "id": "12f86c7d-30a0-4480-a70d-45e6c01724d0",
   "metadata": {},
   "source": [
    "# Model results"
   ]
  },
  {
   "cell_type": "code",
   "execution_count": null,
   "id": "06df1dfe-be5c-47af-8742-bc4582d371bc",
   "metadata": {},
   "outputs": [],
   "source": [
    "obs_holomap = visualization.water_level_holomap(Obs.observed_water_levels_LMSL, \"obs\")\n",
    "\n",
    "prod_holomap = visualization.water_level_holomap(\n",
    "    prod.results.his_output.water_level_LMSL, case\n",
    ")\n",
    "prod_amp_holomap = visualization.harcon_error_holomap(\n",
    "    prod_amp_error, case, drop_small=False\n",
    ")\n",
    "prod_phase_holomap = visualization.harcon_error_holomap(\n",
    "    prod_phase_error, case, drop_small=False\n",
    ")"
   ]
  },
  {
   "cell_type": "code",
   "execution_count": null,
   "id": "1c70c3eb-da48-4353-abf4-ad6a3d3d09df",
   "metadata": {},
   "outputs": [],
   "source": [
    "overlay = obs_holomap * prod_holomap\n",
    "overlay = overlay.opts(\n",
    "    opts.Curve(width=1400, height=450),\n",
    "    opts.Curve(\"pred\", color=\"blue\"),\n",
    "    opts.Curve(case, color=\"black\"),\n",
    ").opts(\n",
    "    show_grid=True,\n",
    "    #xlim=(pd.to_datetime(\"2018-01-15\"), pd.to_datetime(\"2018-02-15\")),\n",
    "    ylim=(-0.75, 0.75),\n",
    ")\n",
    "overlay"
   ]
  },
  {
   "cell_type": "code",
   "execution_count": null,
   "id": "21af81c1-8ebb-465c-a534-9b7562901fb1",
   "metadata": {},
   "outputs": [],
   "source": [
    "panel2 = (\n",
    "    (prod_amp_holomap)\n",
    "    .opts(\n",
    "        opts.Bars(width=1400, height=450),\n",
    "        opts.Bars(\"td_01\", color=\"black\"),\n",
    "        opts.Bars(\"td05\", color=\"red\"),\n",
    "    )\n",
    "    .opts(show_grid=True)\n",
    ")\n",
    "layout = overlay + panel2\n",
    "layout.cols(1)"
   ]
  },
  {
   "cell_type": "code",
   "execution_count": null,
   "id": "9d8be4de-f9dd-4cbf-b8c1-898ad84ef331",
   "metadata": {},
   "outputs": [],
   "source": [
    "panel2 = (\n",
    "    (td05_amp_holomap * td_01_amp_holomap)\n",
    "    .opts(\n",
    "        opts.Bars(width=1400, height=400),\n",
    "        opts.Bars(\"td_01\", color=\"black\"),\n",
    "        opts.Bars(\"td05\", color=\"red\"),\n",
    "    )\n",
    "    .opts(ylim=(-0.1, 0.1))\n",
    ")\n",
    "panel3 = (td_01_phase_holomap * td05_phase_holomap).opts(\n",
    "    opts.Bars(width=1400, height=400),\n",
    "    opts.Bars(\"td_01\", color=\"black\"),\n",
    "    opts.Bars(\"td05\", color=\"red\"),\n",
    ")\n",
    "\n",
    "layout2 = panel2 + panel3\n",
    "layout2.cols(1)"
   ]
  },
  {
   "cell_type": "markdown",
   "id": "fb07a022-9bc0-4b8f-9d6d-15562f57809f",
   "metadata": {},
   "source": [
    "# calibration"
   ]
  },
  {
   "cell_type": "code",
   "execution_count": null,
   "id": "d09dd7b9-1eee-4d41-b8f4-70d7e248aee3",
   "metadata": {},
   "outputs": [],
   "source": [
    "td_01_west_bndry = FMmodel.AstroWaterLevelBC(project_dir / \"tide_west_ext.pli\", project_dir / \"WaterLevel.bc\")\n",
    "west_corr_factors = calibration.compute_amp_correction_factor(td_01_west_bndry, td01_amp_error, Obs.COOPs, thresh=0.005)\n",
    "west_corr_fn = Path(\"west_astro_corr.bc\")\n",
    "calibration.write_correction_file(west_corr_fn, west_corr_factors)"
   ]
  },
  {
   "cell_type": "code",
   "execution_count": null,
   "id": "85cbef98-c64f-4d90-85a9-8f2cd851bed8",
   "metadata": {},
   "outputs": [],
   "source": [
    "td_01_east_bndry = FMmodel.AstroWaterLevelBC(project_dir / \"tide_east_ext.pli\", project_dir / \"WaterLevel.bc\")\n",
    "east_corr_factors = calibration.compute_amp_correction_factor(td_01_east_bndry, td01_amp_error, Obs.COOPs, thresh=0.005)\n",
    "east_corr_fn = Path(\"east_astro_corr.bc\")\n",
    "calibration.write_correction_file(east_corr_fn, east_corr_factors)"
   ]
  },
  {
   "cell_type": "code",
   "execution_count": null,
   "id": "892b8234-c6fc-42b9-a05a-73d57d7180cd",
   "metadata": {},
   "outputs": [],
   "source": [
    "td_01_south_bndry = FMmodel.AstroWaterLevelBC(project_dir / \"tide_south_ext.pli\", project_dir / \"WaterLevel.bc\")\n",
    "south_corr_factors = calibration.compute_amp_correction_factor(td_01_south_bndry, td01_amp_error, Obs.COOPs, thresh=0.005)\n",
    "south_corr_fn = Path(\"south_astro_corr.bc\")\n",
    "calibration.write_correction_file(south_corr_fn, south_corr_factors)"
   ]
  }
 ],
 "metadata": {
  "language_info": {
   "name": "python",
   "pygments_lexer": "ipython3"
  }
 },
 "nbformat": 4,
 "nbformat_minor": 5
}
