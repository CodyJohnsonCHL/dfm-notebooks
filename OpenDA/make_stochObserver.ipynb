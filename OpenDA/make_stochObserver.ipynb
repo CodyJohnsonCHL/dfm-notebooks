{
 "cells": [
  {
   "cell_type": "code",
   "execution_count": null,
   "id": "356b0b70-36b3-47d2-9bb1-ab6145e3e736",
   "metadata": {},
   "outputs": [],
   "source": [
    "%load_ext autoreload\n",
    "%autoreload 2"
   ]
  },
  {
   "cell_type": "code",
   "execution_count": null,
   "id": "3391b4f8-f45b-465b-b682-cfcd97b5c388",
   "metadata": {},
   "outputs": [],
   "source": [
    "import pandas as pd\n",
    "from pathlib import Path\n",
    "\n",
    "from dfm_models.utils.io import download_COOPs, download_nwis\n",
    "from dfm_models.utils.openDA import writeNoosTs, createNoosConfigFile"
   ]
  },
  {
   "cell_type": "code",
   "execution_count": null,
   "id": "23ca9c12-7a59-405c-b751-aeb51464d7ec",
   "metadata": {},
   "outputs": [],
   "source": [
    "project = Path(\"/mnt/c/Users/rdchlclj/Projects/MR_D3D_model\")\n",
    "stations = pd.read_excel(project / \"Delft3D/observations/stations.xlsx\", dtype={\"station_id\": str})"
   ]
  },
  {
   "cell_type": "code",
   "execution_count": null,
   "id": "f6ae10a9-ad75-4262-b1f5-1745cd89b6f2",
   "metadata": {},
   "outputs": [],
   "source": [
    "output = Path.cwd() / \"stochObserver\"\n",
    "output.mkdir()\n",
    "product = \"hourly_height\"\n",
    "datum = \"MSL\"\n",
    "form = \"csv\"\n",
    "begin_date = \"20160101\"\n",
    "end_date = \"20160201\"\n",
    "unit = \"waterlevel\"\n",
    "\n",
    "for i, row in stations.iterrows():\n",
    "\n",
    "    station_id = row.station_id\n",
    "    obsFile_id = row.obsFile_id\n",
    "    x = row.longitude\n",
    "    y = row.latitude\n",
    "    provider = row.provider\n",
    "\n",
    "    if provider == \"NOAA\":\n",
    "        data = download_COOPs(\n",
    "            product, obsFile_id, station_id, datum, begin_date, end_date\n",
    "        )\n",
    "        \n",
    "        data.dropna(inplace=True)\n",
    "\n",
    "        fn = Path.cwd() / f\"stochObserver/{obsFile_id}\"\n",
    "        writeNoosTs(data, obsFile_id, x, y, unit, fn)\n",
    "\n",
    "fn = Path.cwd() / f\"stochObserver/noosObservations.xml\"\n",
    "stationNames = stations[stations.provider == \"NOAA\"][\"obsFile_id\"].values\n",
    "createNoosConfigFile(0.05, stationNames, fn)"
   ]
  },
  {
   "cell_type": "code",
   "execution_count": null,
   "id": "d181b86e-0f47-4a02-ac40-82c57fdfdc3a",
   "metadata": {},
   "outputs": [],
   "source": []
  }
 ],
 "metadata": {
  "language_info": {
   "name": "python",
   "pygments_lexer": "ipython3"
  }
 },
 "nbformat": 4,
 "nbformat_minor": 5
}
