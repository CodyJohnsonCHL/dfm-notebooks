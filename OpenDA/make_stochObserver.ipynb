{
 "cells": [
  {
   "cell_type": "code",
   "execution_count": null,
   "id": "356b0b70-36b3-47d2-9bb1-ab6145e3e736",
   "metadata": {},
   "outputs": [],
   "source": [
    "%load_ext autoreload\n",
    "%autoreload 2"
   ]
  },
  {
   "cell_type": "code",
   "execution_count": null,
   "id": "3391b4f8-f45b-465b-b682-cfcd97b5c388",
   "metadata": {},
   "outputs": [],
   "source": [
    "import pandas as pd\n",
    "from pathlib import Path\n",
    "\n",
    "from dfm_models.utils.io import download_COOPs, download_nwis\n",
    "from dfm_models.utils.openDA import writeNoosTs, createNoosConfigFile"
   ]
  },
  {
   "cell_type": "code",
   "execution_count": null,
   "id": "23ca9c12-7a59-405c-b751-aeb51464d7ec",
   "metadata": {},
   "outputs": [],
   "source": [
    "project = Path(\"/mnt/c/Users/rdchlclj/Projects/MR_D3D_model\")\n",
    "stations = pd.read_excel(project / \"Delft3D/observations/stations.xlsx\", dtype={\"station_id\": str})"
   ]
  },
  {
   "cell_type": "code",
   "execution_count": null,
   "id": "58c16c98-b7dd-4ba0-9364-a626040be1ea",
   "metadata": {},
   "outputs": [],
   "source": [
    "output = Path.cwd() / \"dumdumstochObserver\"\n",
    "\n",
    "product = \"hourly_height\"\n",
    "datum = \"MSL\"\n",
    "form = \"csv\"\n",
    "begin_date = \"20160201\"\n",
    "end_date = \"20160301\"\n",
    "unit = \"waterlevel\"\n",
    "\n",
    "dt = pd.to_timedelta(6, \"H\")\n",
    "\n",
    "t0 = pd.to_datetime(\"2016-02-01 00:00\")\n",
    "tf = pd.to_datetime(\"2016-03-01 00:00\")\n",
    "\n",
    "AOIStations = {\n",
    "    \"Dauphin_Island\": 0.5,\n",
    "    \"Pascagoula\": 0.5,\n",
    "    \"Bay_Waveland_Yacht_Club\": 0.5,\n",
    "    \"Shell_Beach\": 0.25,\n",
    "    \"New_Canal\": 0.25,\n",
    "    \"Bonnet_Carre_Spillway\": 0.25\n",
    "}\n",
    "\n",
    "baseStdev = 0.05\n",
    "\n",
    "useStdev = []\n",
    "useStations = []"
   ]
  },
  {
   "cell_type": "code",
   "execution_count": null,
   "id": "41679d65-e891-42a0-94cf-45140bad4fac",
   "metadata": {},
   "outputs": [],
   "source": [
    "# for i, row in stations[stations.obsFile_id.isin(useStations)].iterrows():\n",
    "for i, row in stations.iterrows():\n",
    "\n",
    "    station_id = row.station_id\n",
    "    obsFile_id = row.obsFile_id\n",
    "    x = row.longitude\n",
    "    y = row.latitude\n",
    "    provider = row.provider\n",
    "\n",
    "    if provider == \"NOAA\":\n",
    "        data = download_COOPs(\n",
    "            product, obsFile_id, station_id, datum, begin_date, end_date\n",
    "        )\n",
    "\n",
    "        try:\n",
    "            stdev = AOIStations[obsFile_id] * baseStdev\n",
    "        except KeyError:\n",
    "            stdev = baseStdev\n",
    "\n",
    "        # data.index += dta\n",
    "        data = data.loc[t0:tf]\n",
    "\n",
    "        if data.isna().any():\n",
    "            print(obsFile_id)\n",
    "            continue\n",
    "\n",
    "        useStations.append(obsFile_id)\n",
    "        useStdev.append(stdev)\n",
    "\n",
    "        fn = output / f\"{obsFile_id}\"\n",
    "        writeNoosTs(data, obsFile_id, x, y, unit, fn)\n",
    "\n",
    "fn = output / \"noosObservations.xml\"\n",
    "createNoosConfigFile(useStdev, useStations, fn)"
   ]
  }
 ],
 "metadata": {
  "language_info": {
   "name": "python",
   "pygments_lexer": "ipython3"
  }
 },
 "nbformat": 4,
 "nbformat_minor": 5
}
