{
 "cells": [
  {
   "cell_type": "code",
   "execution_count": null,
   "id": "stylish-failure",
   "metadata": {},
   "outputs": [],
   "source": [
    "from pathlib import Path\n",
    "\n",
    "import matplotlib as mpl\n",
    "import matplotlib.pyplot as plt\n",
    "import pandas as pd\n",
    "import xarray as xr"
   ]
  },
  {
   "cell_type": "code",
   "execution_count": null,
   "id": "explicit-nutrition",
   "metadata": {},
   "outputs": [],
   "source": [
    "# data\n",
    "data = Path(\"/mnt/e/MS_River_plume/Delft3d/models/f01_10sig_high_smooth/output_t3\")\n",
    "output = Path.cwd() / \"output\"\n",
    "ds = xr.open_dataset(data / \"f01_hotstart_merged_map.nc\")"
   ]
  },
  {
   "cell_type": "code",
   "execution_count": null,
   "id": "preceding-disposal",
   "metadata": {},
   "outputs": [],
   "source": [
    "tf = pd.to_datetime(\"2018-12-31\")\n",
    "depth_avg_sal = ds.sel(time=tf)[\"mesh2d_sa1\"].mean(dim=\"mesh2d_nLayers\")"
   ]
  },
  {
   "cell_type": "code",
   "execution_count": null,
   "id": "charitable-personality",
   "metadata": {},
   "outputs": [],
   "source": [
    "fn = output / \"f01_final_depth_avg_salinity.xyz\"\n",
    "depth_avg_sal.to_dataframe()[[\"mesh2d_face_x\", \"mesh2d_face_y\", \"mesh2d_sa1\"]].to_csv(fn, sep=\"\\t\", index=False, header=False)"
   ]
  },
  {
   "cell_type": "code",
   "execution_count": null,
   "id": "certified-hollywood",
   "metadata": {},
   "outputs": [],
   "source": []
  }
 ],
 "metadata": {
  "language_info": {
   "name": "python",
   "pygments_lexer": "ipython3"
  }
 },
 "nbformat": 4,
 "nbformat_minor": 5
}
